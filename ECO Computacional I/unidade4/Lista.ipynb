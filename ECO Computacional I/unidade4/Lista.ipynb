{
 "cells": [
  {
   "cell_type": "markdown",
   "id": "342f4da2",
   "metadata": {},
   "source": [
    "# Listas"
   ]
  },
  {
   "cell_type": "code",
   "execution_count": 20,
   "id": "99acbca4",
   "metadata": {},
   "outputs": [],
   "source": [
    "# Criação de listas\n",
    "\n",
    "lista1 = [1, 'a', 2.3]\n",
    "\n",
    "b = [1, 2, 3, 4, 5, 6]"
   ]
  },
  {
   "cell_type": "code",
   "execution_count": 21,
   "id": "643d9454",
   "metadata": {},
   "outputs": [
    {
     "name": "stdout",
     "output_type": "stream",
     "text": [
      "[1, 'a', 2.3]\n",
      "[1, 2, 3, 4, 5, 6]\n"
     ]
    }
   ],
   "source": [
    "print(lista1)\n",
    "\n",
    "print(b)"
   ]
  },
  {
   "cell_type": "code",
   "execution_count": 22,
   "id": "741857fc",
   "metadata": {},
   "outputs": [
    {
     "name": "stdout",
     "output_type": "stream",
     "text": [
      "1\n",
      "3\n"
     ]
    }
   ],
   "source": [
    "# Acessando os elementos da lista\n",
    "\n",
    "print(lista1[0])\n",
    "\n",
    "print(b[2])"
   ]
  },
  {
   "cell_type": "code",
   "execution_count": 23,
   "id": "bacf1469",
   "metadata": {},
   "outputs": [],
   "source": [
    "# Modificando um elemento da lista\n",
    "\n",
    "b[2] = 15"
   ]
  },
  {
   "cell_type": "code",
   "execution_count": 24,
   "id": "cf35f375",
   "metadata": {},
   "outputs": [
    {
     "name": "stdout",
     "output_type": "stream",
     "text": [
      "[1, 2, 15, 4, 5, 6]\n"
     ]
    }
   ],
   "source": [
    "# Verificando a nova lista b\n",
    "\n",
    "print(b)"
   ]
  },
  {
   "cell_type": "markdown",
   "id": "36793179",
   "metadata": {},
   "source": [
    "## Ordenação de listas"
   ]
  },
  {
   "cell_type": "code",
   "execution_count": 27,
   "id": "da7886bb",
   "metadata": {},
   "outputs": [
    {
     "name": "stdout",
     "output_type": "stream",
     "text": [
      "[1, 2, 4, 5, 6, 15]\n"
     ]
    }
   ],
   "source": [
    "# Ordenando a lista b\n",
    "\n",
    "c = sorted(b)\n",
    "print(c)"
   ]
  },
  {
   "cell_type": "code",
   "execution_count": 28,
   "id": "6795bef9",
   "metadata": {},
   "outputs": [],
   "source": [
    "# Usando o método sort\n",
    "\n",
    "d = b.sort()"
   ]
  },
  {
   "cell_type": "code",
   "execution_count": 29,
   "id": "5fc7bd27",
   "metadata": {},
   "outputs": [
    {
     "name": "stdout",
     "output_type": "stream",
     "text": [
      "None\n"
     ]
    }
   ],
   "source": [
    "print(d)"
   ]
  },
  {
   "cell_type": "code",
   "execution_count": 30,
   "id": "bb5bdd67",
   "metadata": {},
   "outputs": [
    {
     "name": "stdout",
     "output_type": "stream",
     "text": [
      "[1, 2, 4, 5, 6, 15]\n"
     ]
    }
   ],
   "source": [
    "print(b)"
   ]
  },
  {
   "cell_type": "code",
   "execution_count": 32,
   "id": "16283462",
   "metadata": {},
   "outputs": [],
   "source": [
    "e = [2, 13, 6, 1, 9]"
   ]
  },
  {
   "cell_type": "code",
   "execution_count": 35,
   "id": "aee5fefd",
   "metadata": {},
   "outputs": [
    {
     "name": "stdout",
     "output_type": "stream",
     "text": [
      "None\n"
     ]
    }
   ],
   "source": [
    "print(e.sort()) # Forma uma nova lista e com os elementos ordenados"
   ]
  },
  {
   "cell_type": "code",
   "execution_count": 36,
   "id": "5f8fdb07",
   "metadata": {},
   "outputs": [
    {
     "name": "stdout",
     "output_type": "stream",
     "text": [
      "[1, 2, 6, 9, 13]\n"
     ]
    }
   ],
   "source": [
    "print(e)"
   ]
  },
  {
   "cell_type": "code",
   "execution_count": null,
   "id": "9a8e14df",
   "metadata": {},
   "outputs": [],
   "source": []
  }
 ],
 "metadata": {
  "kernelspec": {
   "display_name": "Python 3 (ipykernel)",
   "language": "python",
   "name": "python3"
  },
  "language_info": {
   "codemirror_mode": {
    "name": "ipython",
    "version": 3
   },
   "file_extension": ".py",
   "mimetype": "text/x-python",
   "name": "python",
   "nbconvert_exporter": "python",
   "pygments_lexer": "ipython3",
   "version": "3.10.9"
  }
 },
 "nbformat": 4,
 "nbformat_minor": 5
}
